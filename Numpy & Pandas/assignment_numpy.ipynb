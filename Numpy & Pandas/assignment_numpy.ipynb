{
 "cells": [
  {
   "cell_type": "markdown",
   "id": "d3df79dd",
   "metadata": {},
   "source": [
    "## Упражнения по библиотеке Numpy"
   ]
  },
  {
   "cell_type": "code",
   "execution_count": 18,
   "id": "76b9c43b",
   "metadata": {},
   "outputs": [],
   "source": [
    "import numpy as np"
   ]
  },
  {
   "cell_type": "markdown",
   "id": "03727b7c",
   "metadata": {},
   "source": [
    "**1.** Дан случайный массив, поменять знак у элементов, значения которых между 3 и 8"
   ]
  },
  {
   "cell_type": "code",
   "execution_count": 5,
   "id": "b89a7523",
   "metadata": {},
   "outputs": [
    {
     "data": {
      "text/plain": [
       "array([ 9,  9, -6,  0,  3,  2,  2,  1,  3,  2,  0, -7,  9,  1, -5,  1, -6,\n",
       "       -7,  0, -4])"
      ]
     },
     "execution_count": 5,
     "metadata": {},
     "output_type": "execute_result"
    }
   ],
   "source": [
    "arr = np.random.randint(0, 10, 20)\n",
    "\n",
    "arr[(arr > 3) & (arr < 8)] *= -1\n",
    "arr"
   ]
  },
  {
   "cell_type": "markdown",
   "id": "5fa4abda",
   "metadata": {},
   "source": [
    "**2.** Заменить максимальный элемент случайного массива на 0"
   ]
  },
  {
   "cell_type": "code",
   "execution_count": 6,
   "id": "f2788a6e",
   "metadata": {},
   "outputs": [
    {
     "name": "stdout",
     "output_type": "stream",
     "text": [
      "[4 5 4 7 1 1 6 4 2 1]\n",
      "[4 5 4 0 1 1 6 4 2 1]\n"
     ]
    }
   ],
   "source": [
    "arr = np.random.randint(1, 10, 10)\n",
    "print(arr)\n",
    "arr[arr.argmax()] = 0\n",
    "print(arr)"
   ]
  },
  {
   "cell_type": "markdown",
   "id": "3cac656b",
   "metadata": {},
   "source": [
    "**3.** Построить прямое произведение массивов (все комбинации с каждым элементом). На вход подается двумерный массив"
   ]
  },
  {
   "cell_type": "code",
   "execution_count": 7,
   "id": "3396b764",
   "metadata": {},
   "outputs": [
    {
     "name": "stdout",
     "output_type": "stream",
     "text": [
      "[[1 2]\n",
      " [4 2]\n",
      " [1 3]\n",
      " [4 3]\n",
      " [1 5]\n",
      " [4 5]]\n"
     ]
    }
   ],
   "source": [
    "a = np.array([1, 4])\n",
    "b = np.array([2, 3, 5])\n",
    "c = np.transpose([np.tile(a, len(b)), np.repeat(b, len(a))])\n",
    "print(c)"
   ]
  },
  {
   "cell_type": "markdown",
   "id": "674c9354",
   "metadata": {},
   "source": [
    "**4.** Даны 2 массива A (8x3) и B (2x2). Найти строки в A, которые содержат элементы из каждой строки в B, независимо от порядка элементов в B"
   ]
  },
  {
   "cell_type": "code",
   "execution_count": 8,
   "id": "cb664782",
   "metadata": {},
   "outputs": [
    {
     "name": "stdout",
     "output_type": "stream",
     "text": [
      "[[1 4 1]\n",
      " [0 4 2]\n",
      " [4 3 0]\n",
      " [3 2 3]\n",
      " [0 0 4]\n",
      " [3 1 4]\n",
      " [0 4 0]\n",
      " [2 3 4]]\n",
      "[[2 2]\n",
      " [3 2]]\n",
      "[1 3 3 7 7]\n"
     ]
    }
   ],
   "source": [
    "a = np.random.randint(0,5,(8,3))\n",
    "b = np.random.randint(0,5,(2,2))\n",
    "print(a)\n",
    "print(b)\n",
    "c = (a[:,:, np.newaxis, np.newaxis] == b)\n",
    "rows = (c.sum(axis=(1,2)) >= b.shape[1]).nonzero()[0]\n",
    "print(rows)"
   ]
  },
  {
   "cell_type": "markdown",
   "id": "fa46533b",
   "metadata": {},
   "source": [
    "**5.** Дана 10x3 матрица, найти строки из неравных значений (например строка [2,2,3] остается, строка [3,3,3] удаляется)"
   ]
  },
  {
   "cell_type": "code",
   "execution_count": 9,
   "id": "fa545b23",
   "metadata": {},
   "outputs": [
    {
     "name": "stdout",
     "output_type": "stream",
     "text": [
      "[[3 2 1]\n",
      " [2 4 2]\n",
      " [0 1 3]\n",
      " [4 4 2]\n",
      " [1 4 0]\n",
      " [0 4 1]\n",
      " [2 0 1]\n",
      " [4 0 3]\n",
      " [0 4 1]\n",
      " [4 4 4]]\n",
      "[[3 2 1]\n",
      " [2 4 2]\n",
      " [0 1 3]\n",
      " [4 4 2]\n",
      " [1 4 0]\n",
      " [0 4 1]\n",
      " [2 0 1]\n",
      " [4 0 3]\n",
      " [0 4 1]]\n"
     ]
    }
   ],
   "source": [
    "Z = np.random.randint(0,5,(10,3))\n",
    "E = np.logical_and.reduce(Z[:,1:] == Z[:,:-1], axis=1)\n",
    "U = Z[~E]\n",
    "print(Z)\n",
    "print(U)"
   ]
  },
  {
   "cell_type": "markdown",
   "id": "28f0d116",
   "metadata": {},
   "source": [
    "**6.** Дан двумерный массив. Удалить те строки, которые повторяются"
   ]
  },
  {
   "cell_type": "code",
   "execution_count": 27,
   "id": "83d2c0b7",
   "metadata": {},
   "outputs": [
    {
     "name": "stdout",
     "output_type": "stream",
     "text": [
      "[[1 1]\n",
      " [2 2]\n",
      " [2 0]\n",
      " [1 0]\n",
      " [2 0]]\n",
      "[[1 0]\n",
      " [1 1]\n",
      " [2 0]\n",
      " [2 2]]\n"
     ]
    }
   ],
   "source": [
    "a = np.random.randint(0,3,(5,2))\n",
    "b = np.unique(a, axis=0)\n",
    "print(a)\n",
    "print(b)"
   ]
  },
  {
   "cell_type": "markdown",
   "id": "6daa9e37",
   "metadata": {},
   "source": [
    "______\n",
    "______"
   ]
  },
  {
   "cell_type": "markdown",
   "id": "cfbfcaff",
   "metadata": {},
   "source": [
    "Для каждой из следующих задач (1-5) нужно привести 2 реализации – одна без использования numpy (cчитайте, что там, где на входе или выходе должны быть numpy array, будут просто списки), а вторая полностью векторизованная с использованием numpy (без использования питоновских циклов/map/list comprehension).\n",
    "\n",
    "\n",
    "__Замечание 1.__ Можно считать, что все указанные объекты непустые (к примеру, в __задаче 1__ на диагонали матрицы есть ненулевые элементы).\n",
    "\n",
    "__Замечание 2.__ Для большинства задач решение занимает не больше 1-2 строк."
   ]
  },
  {
   "cell_type": "markdown",
   "id": "673cac7f",
   "metadata": {},
   "source": [
    "___"
   ]
  },
  {
   "cell_type": "markdown",
   "id": "ca6f585e",
   "metadata": {},
   "source": [
    "* __Задача 1__: Подсчитать произведение ненулевых элементов на диагонали прямоугольной матрицы.  \n",
    " Например, для X = np.array([[1, 0, 1], [2, 0, 2], [3, 0, 3], [4, 4, 4]]) ответ 3."
   ]
  },
  {
   "cell_type": "code",
   "execution_count": 13,
   "id": "065862fc",
   "metadata": {},
   "outputs": [
    {
     "name": "stdout",
     "output_type": "stream",
     "text": [
      "3\n",
      "3\n"
     ]
    }
   ],
   "source": [
    "from functools import reduce\n",
    "\n",
    "X = np.array([[1, 0, 1], [2, 0, 2], [3, 0, 3], [4, 4, 4]])\n",
    "\n",
    "\n",
    "#NumPy \n",
    "D = np.diagonal(X)\n",
    "print(np.prod(D[D != 0]))\n",
    "\n",
    "\n",
    "#Default\n",
    "D = min(len(X), len(X[0]))\n",
    "print(reduce(lambda a, b : a * b, [X[i][i] for i in range(D) if X[i][i] != 0]))"
   ]
  },
  {
   "cell_type": "markdown",
   "id": "9fc51d41",
   "metadata": {},
   "source": [
    "* __Задача 2__: Даны два вектора x и y. Проверить, задают ли они одно и то же мультимножество.  \n",
    "  Например, для x = np.array([1, 2, 2, 4]), y = np.array([4, 2, 1, 2]) ответ True."
   ]
  },
  {
   "cell_type": "code",
   "execution_count": 14,
   "id": "a809e02f",
   "metadata": {},
   "outputs": [
    {
     "name": "stdout",
     "output_type": "stream",
     "text": [
      "True\n",
      "True\n"
     ]
    }
   ],
   "source": [
    "x = np.array([1, 2, 2, 4])\n",
    "y = np.array([4, 2, 1, 2])\n",
    "\n",
    "#NumPy\n",
    "print(np.in1d(x, y).all())\n",
    "\n",
    "\n",
    "#Default\n",
    "print(set(x) == set(y))"
   ]
  },
  {
   "cell_type": "markdown",
   "id": "b9c185c7",
   "metadata": {},
   "source": [
    "* __Задача 3__: Найти максимальный элемент в векторе x среди элементов, перед которыми стоит ноль. \n",
    " Например, для x = np.array([6, 2, 0, 3, 0, 0, 5, 7, 0]) ответ 5."
   ]
  },
  {
   "cell_type": "code",
   "execution_count": 15,
   "id": "b57df008",
   "metadata": {},
   "outputs": [
    {
     "name": "stdout",
     "output_type": "stream",
     "text": [
      "5\n",
      "5\n"
     ]
    }
   ],
   "source": [
    "x1 = np.array([6, 2, 0, 3, 0, 0, 5, 7, 0])\n",
    "x2 = [6, 2, 0, 3, 0, 0, 5, 7, 0]\n",
    "\n",
    "#NumPy\n",
    "curr = np.ones((1))\n",
    "curr = np.hstack((curr, x1))\n",
    "ind = curr == 0\n",
    "print(np.max(x1[ind[:-1]]))\n",
    "\n",
    "\n",
    "#Default\n",
    "if x2[-1] == 0:\n",
    "    del x2[-1]\n",
    "max = x2[x2.index(0)+1]\n",
    "for i,e in enumerate(x2):\n",
    "    if e == 0 & max < x2[i+1]:\n",
    "        max = x2[i+1]\n",
    "print(max)"
   ]
  },
  {
   "cell_type": "markdown",
   "id": "480be4ce",
   "metadata": {},
   "source": [
    "* __Задача 4__: Реализовать кодирование длин серий (Run-length encoding). Для некоторого вектора x необходимо вернуть кортеж из двух векторов одинаковой длины. Первый содержит числа, а второй - сколько раз их нужно повторить.  \n",
    " Например, для x = np.array([2, 2, 2, 3, 3, 3, 5]) ответ (np.array([2, 3, 5]), np.array([3, 3, 1]))."
   ]
  },
  {
   "cell_type": "code",
   "execution_count": 16,
   "id": "3c592124",
   "metadata": {},
   "outputs": [
    {
     "name": "stdout",
     "output_type": "stream",
     "text": [
      "[2 3 5 2 3]\n",
      "[2 3 1 1 4]\n",
      "[2, 3, 5, 2, 3]\n",
      "[2, 3, 1, 1, 4]\n"
     ]
    }
   ],
   "source": [
    "x1 = np.array([2, 2, 3, 3, 3, 5, 2, 3, 3, 3, 3])\n",
    "x2 = [2, 2, 3, 3, 3, 5, 2, 3, 3, 3, 3] \n",
    "\n",
    "#NumPy\n",
    "y = np.hstack((np.ones(1), x1[:- 1]))\n",
    "first_matches = x1 != y\n",
    "indexes_1 = np.arange(np.size(x1))[first_matches]\n",
    "indexes_2 = np.hstack((indexes_1[1:], np.array([np.size(x1)])))\n",
    "print(x1[first_matches])\n",
    "print(indexes_2 - indexes_1)\n",
    "\n",
    "\n",
    "#Default\n",
    "values = [[x2[0]]]\n",
    "matches = [1]\n",
    "i = 0\n",
    "for value in x2[1:]:\n",
    "    if value != values[-1][0]:\n",
    "        matches.append(1)\n",
    "        i += 1\n",
    "        values.append([])\n",
    "        values[i].append(value)\n",
    "    else:\n",
    "        values[i].append(value)\n",
    "        matches[i] += 1\n",
    "print(list([i[0] for i in values]))\n",
    "print(matches)"
   ]
  },
  {
   "cell_type": "markdown",
   "id": "077532ec",
   "metadata": {},
   "source": [
    "* __Задача 5__: Даны две выборки объектов - X и Y. Вычислить матрицу евклидовых расстояний между объектами. Сравните с функцией scipy.spatial.distance.cdist по скорости работы."
   ]
  },
  {
   "cell_type": "code",
   "execution_count": 55,
   "id": "1e807797",
   "metadata": {},
   "outputs": [
    {
     "name": "stdout",
     "output_type": "stream",
     "text": [
      "[[12.16552506 11.18033989 34.13209633 26.92582404]\n",
      " [12.04159458 10.19803903 33.13608305 26.07680962]\n",
      " [12.          9.21954446 32.14031736 25.23885893]\n",
      " [ 8.06225775  8.24621125 31.01612484 22.36067977]]\n",
      "--- 0.0009980201721191406 seconds ---\n",
      "\n",
      "\n",
      "[[12.165525060596439, 11.180339887498949, 34.132096331752024, 26.92582403567252], [12.041594578792296, 10.198039027185569, 33.13608305156178, 26.076809620810597], [12.0, 9.219544457292887, 32.14031735997639, 25.238858928247925], [8.06225774829855, 8.246211251235321, 31.016124838541646, 22.360679774997898]]\n",
      "--- 0.0 seconds ---\n",
      "\n",
      "\n",
      "[[12.16552506 11.18033989 34.13209633 26.92582404]\n",
      " [12.04159458 10.19803903 33.13608305 26.07680962]\n",
      " [12.          9.21954446 32.14031736 25.23885893]\n",
      " [ 8.06225775  8.24621125 31.01612484 22.36067977]]\n",
      "--- 0.0009963512420654297 seconds ---\n"
     ]
    }
   ],
   "source": [
    "import math\n",
    "import scipy\n",
    "import time\n",
    "x = np.array([[1, 0], [2, 0], [3, 0], [4, 4]])\n",
    "y = np.array([[3, 12], [12, 2], [35, 3], [24, 14]])\n",
    "\n",
    "#NumPy\n",
    "start_time = time.time()\n",
    "print(np.sqrt(np.sum((x[:, np.newaxis] - y) ** 2, axis=-1)))\n",
    "print(\"--- %s seconds ---\" % (time.time() - start_time))\n",
    "\n",
    "\n",
    "print('\\n')\n",
    "\n",
    "\n",
    "#Default\n",
    "start_time = time.time()\n",
    "result = list()\n",
    "for i in range(len(x)):\n",
    "    curr = list()\n",
    "    for j in range(len(y)):\n",
    "        dist = 0\n",
    "        for k in range(len(x[0])):\n",
    "            dist += (x[i][k] - y[j][k]) ** 2\n",
    "        curr.append(math.sqrt(dist))\n",
    "    result.append(curr)\n",
    "print(result)\n",
    "print(\"--- %s seconds ---\" % (time.time() - start_time))\n",
    "\n",
    "print('\\n')\n",
    "\n",
    "#SciPy\n",
    "start_time = time.time()\n",
    "print(scipy.spatial.distance.cdist(x,y))\n",
    "print(\"--- %s seconds ---\" % (time.time() - start_time))"
   ]
  },
  {
   "cell_type": "markdown",
   "id": "973e8064",
   "metadata": {},
   "source": [
    "_______\n",
    "________"
   ]
  },
  {
   "cell_type": "markdown",
   "id": "1104acb7",
   "metadata": {},
   "source": [
    "* #### __Задача 6__: CrunchieMunchies __*__\n",
    "\n",
    "Вы работаете в отделе маркетинга пищевой компании MyCrunch, которая разрабатывает новый вид вкусных, полезных злаков под названием **CrunchieMunchies**.\n",
    "\n",
    "Вы хотите продемонстрировать потребителям, насколько полезны ваши хлопья по сравнению с другими ведущими брендами, поэтому вы собрали данные о питании нескольких разных конкурентов.\n",
    "\n",
    "Ваша задача - использовать вычисления Numpy для анализа этих данных и доказать, что ваши **СrunchieMunchies** - самый здоровый выбор для потребителей.\n"
   ]
  },
  {
   "cell_type": "code",
   "execution_count": 21,
   "id": "10a77f8d",
   "metadata": {},
   "outputs": [],
   "source": [
    "import numpy as np"
   ]
  },
  {
   "cell_type": "markdown",
   "id": "ab87cb03",
   "metadata": {},
   "source": [
    "1. Просмотрите файл cereal.csv. Этот файл содержит количества калорий для различных марок хлопьев. Загрузите данные из файла и сохраните их как calorie_stats."
   ]
  },
  {
   "cell_type": "code",
   "execution_count": 25,
   "id": "9681ebf2",
   "metadata": {},
   "outputs": [
    {
     "data": {
      "text/plain": [
       "array([ 70., 120.,  70.,  50., 110., 110., 110., 130.,  90.,  90., 120.,\n",
       "       110., 120., 110., 110., 110., 100., 110., 110., 110., 100., 110.,\n",
       "       100., 100., 110., 110., 100., 120., 120., 110., 100., 110., 100.,\n",
       "       110., 120., 120., 110., 110., 110., 140., 110., 100., 110., 100.,\n",
       "       150., 150., 160., 100., 120., 140.,  90., 130., 120., 100.,  50.,\n",
       "        50., 100., 100., 120., 100.,  90., 110., 110.,  80.,  90.,  90.,\n",
       "       110., 110.,  90., 110., 140., 100., 110., 110., 100., 100., 110.])"
      ]
     },
     "execution_count": 25,
     "metadata": {},
     "output_type": "execute_result"
    }
   ],
   "source": [
    "calorie_stats = np.loadtxt(\"./data/cereal.csv\", delimiter=\",\")\n",
    "calorie_stats"
   ]
  },
  {
   "cell_type": "markdown",
   "id": "139cfbd8",
   "metadata": {},
   "source": [
    "2. В одной порции CrunchieMunchies содержится 60 калорий. Насколько выше среднее количество калорий у ваших конкурентов?\n",
    "\n",
    "Сохраните ответ в переменной average_calories и распечатайте переменную в терминале"
   ]
  },
  {
   "cell_type": "code",
   "execution_count": 33,
   "id": "7036d240",
   "metadata": {},
   "outputs": [
    {
     "name": "stdout",
     "output_type": "stream",
     "text": [
      "Средний калораж - 106.88311688311688\n",
      "CrunchieMunchies содержат на 46.883116883116884 калорий меньше чем конкуренты\n"
     ]
    }
   ],
   "source": [
    "cm_calories = 60\n",
    "average_calories = np.mean(calorie_stats)\n",
    "print(f\"Средний калораж - {average_calories}\")\n",
    "print(f\"CrunchieMunchies содержат на {abs(cm_calories - average_calories)} калорий меньше чем конкуренты\")"
   ]
  },
  {
   "cell_type": "markdown",
   "id": "b2ddb4cd",
   "metadata": {},
   "source": [
    "3. Корректно ли среднее количество калорий отражает распределение набора данных? Давайте отсортируем данные и посмотрим.\n",
    "\n",
    "Отсортируйте данные и сохраните результат в переменной calorie_stats_sorted. Распечатайте отсортированную информацию"
   ]
  },
  {
   "cell_type": "code",
   "execution_count": 35,
   "id": "46eeb4ed",
   "metadata": {},
   "outputs": [
    {
     "name": "stdout",
     "output_type": "stream",
     "text": [
      "[ 50.  50.  50.  70.  70.  80.  90.  90.  90.  90.  90.  90.  90. 100.\n",
      " 100. 100. 100. 100. 100. 100. 100. 100. 100. 100. 100. 100. 100. 100.\n",
      " 100. 100. 110. 110. 110. 110. 110. 110. 110. 110. 110. 110. 110. 110.\n",
      " 110. 110. 110. 110. 110. 110. 110. 110. 110. 110. 110. 110. 110. 110.\n",
      " 110. 110. 110. 120. 120. 120. 120. 120. 120. 120. 120. 120. 120. 130.\n",
      " 130. 140. 140. 140. 150. 150. 160.]\n"
     ]
    }
   ],
   "source": [
    "calorie_stats_sorted = np.sort(calorie_stats)\n",
    "print(calorie_stats_sorted)"
   ]
  },
  {
   "cell_type": "markdown",
   "id": "4dc74116",
   "metadata": {},
   "source": [
    "4. Похоже, что большинство значений выше среднего. Давайте посмотрим, является ли медиана наиболее корректным показателем набора данных.\n",
    "\n",
    "Вычислите медиану набора данных и сохраните свой ответ в median_calories. Выведите медиану, чтобы вы могли видеть, как она сравнивается со средним значением."
   ]
  },
  {
   "cell_type": "code",
   "execution_count": 36,
   "id": "b56627c3",
   "metadata": {},
   "outputs": [
    {
     "name": "stdout",
     "output_type": "stream",
     "text": [
      "110.0\n"
     ]
    }
   ],
   "source": [
    "median_calories = np. median(calorie_stats)\n",
    "print(median_calories)"
   ]
  },
  {
   "cell_type": "markdown",
   "id": "a63ab72f",
   "metadata": {},
   "source": [
    "5. В то время как медиана показывает, что по крайней мере половина наших значений составляет более 100 калорий, было бы более впечатляюще показать, что значительная часть конкурентов имеет более высокое количество калорий, чем CrunchieMunchies.\n",
    "\n",
    "Рассчитайте различные процентили и распечатайте их, пока не найдете наименьший процентиль, превышающий 60 калорий. Сохраните это значение в переменной nth_percentile."
   ]
  },
  {
   "cell_type": "code",
   "execution_count": 52,
   "id": "fe80ce03",
   "metadata": {},
   "outputs": [
    {
     "name": "stdout",
     "output_type": "stream",
     "text": [
      "3\n"
     ]
    }
   ],
   "source": [
    "percentile = np.arange(0,101)\n",
    "nth_percentile = (np.abs((np.percentile(calorie_stats, percentile)) - 60)).argmin()\n",
    "print(nth_percentile)"
   ]
  },
  {
   "cell_type": "markdown",
   "id": "a2a3c5aa",
   "metadata": {},
   "source": [
    "6. Хотя процентиль показывает нам, что у большинства конкурентов количество калорий намного выше, это неудобная концепция для использования в маркетинговых материалах.\n",
    "\n",
    "Вместо этого давайте подсчитаем процент хлопьев, в которых содержится более 60 калорий на порцию. Сохраните свой ответ в переменной more_calories и распечатайте его"
   ]
  },
  {
   "cell_type": "code",
   "execution_count": 75,
   "id": "ade0f6ea",
   "metadata": {},
   "outputs": [
    {
     "name": "stdout",
     "output_type": "stream",
     "text": [
      "96.1038961038961\n"
     ]
    }
   ],
   "source": [
    "more_then_cm = np.count_nonzero(np.array(calorie_stats > 60))\n",
    "more_calories = (more_then_cm * 100) / len(calorie_stats)\n",
    "print(more_calories)"
   ]
  },
  {
   "cell_type": "markdown",
   "id": "1735d65b",
   "metadata": {},
   "source": [
    "7. Это действительно высокий процент. Это будет очень полезно, когда мы будем продвигать CrunchieMunchies. Но один вопрос заключается в том, насколько велики различия в наборе данных? Можем ли мы сделать обобщение, что в большинстве злаков содержится около 100 калорий или разброс еще больше?\n",
    "\n",
    "Рассчитайте величину отклонения, найдя стандартное отклонение, Сохраните свой ответ в calorie_std и распечатайте на терминале. Как мы можем включить эту ценность в наш анализ?"
   ]
  },
  {
   "cell_type": "code",
   "execution_count": 77,
   "id": "85c8df1f",
   "metadata": {},
   "outputs": [
    {
     "name": "stdout",
     "output_type": "stream",
     "text": [
      "19.35718533390827\n"
     ]
    }
   ],
   "source": [
    "calorie_std = np.std(calorie_stats)\n",
    "print(calorie_std)\n",
    "'''\n",
    "    Аппроксимируя результат(при условии, что выборка была репрезентативна), можно сказать,\n",
    "    что 95% злаков конкурентов имеют более высокое содержание калорий чем в Mycrunch\n",
    "'''"
   ]
  },
  {
   "cell_type": "markdown",
   "id": "037455c5",
   "metadata": {},
   "source": [
    "8. Напишите короткий абзац, в котором кратко изложите свои выводы и то, как, по вашему мнению, эти данные могут быть использованы в интересах Mycrunch при маркетинге CrunchieMunchies."
   ]
  },
  {
   "cell_type": "code",
   "execution_count": 167,
   "id": "c260fee9",
   "metadata": {},
   "outputs": [],
   "source": [
    "'''\n",
    "Можно сказать что:\n",
    "    - в злаках CrunchieMunchies содержится на 44.4% меньше калорий (и в пункт со звездочкой отнести \"чем в среднем у конкурентов\") \n",
    "    - CrunchieMunchies менее калорийны чем 95% злаков других производителей   \n",
    "'''"
   ]
  }
 ],
 "metadata": {
  "kernelspec": {
   "display_name": "Python 3 (ipykernel)",
   "language": "python",
   "name": "python3"
  },
  "language_info": {
   "codemirror_mode": {
    "name": "ipython",
    "version": 3
   },
   "file_extension": ".py",
   "mimetype": "text/x-python",
   "name": "python",
   "nbconvert_exporter": "python",
   "pygments_lexer": "ipython3",
   "version": "3.9.7"
  }
 },
 "nbformat": 4,
 "nbformat_minor": 5
}
